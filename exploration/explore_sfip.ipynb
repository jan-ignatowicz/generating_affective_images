{
 "cells": [
  {
   "cell_type": "code",
   "execution_count": 85,
   "metadata": {
    "collapsed": true,
    "pycharm": {
     "name": "#%%\n"
    }
   },
   "outputs": [],
   "source": [
    "import matplotlib.pyplot as plt\n",
    "import pandas as pd"
   ]
  },
  {
   "cell_type": "code",
   "execution_count": null,
   "outputs": [],
   "source": [
    "data = pd.read_excel(\n",
    "    '../datasets/unzipped/OneDrive_1_16-03-2021/NAPS. Nencki Affective Picture System/SFIP ratings (Michałowski et al., 2016).xls',\n",
    "    engine='xlrd', skiprows=3)\n",
    "data.head()"
   ],
   "metadata": {
    "collapsed": false,
    "pycharm": {
     "name": "#%%\n",
     "is_executing": true
    }
   }
  },
  {
   "cell_type": "code",
   "execution_count": null,
   "outputs": [],
   "source": [
    "print(\"social_010\" in data[\"SFIP NAME\"].values)"
   ],
   "metadata": {
    "collapsed": false,
    "pycharm": {
     "name": "#%%\n",
     "is_executing": true
    }
   }
  },
  {
   "cell_type": "code",
   "execution_count": null,
   "outputs": [],
   "source": [
    "data.columns"
   ],
   "metadata": {
    "collapsed": false,
    "pycharm": {
     "name": "#%%\n",
     "is_executing": true
    }
   }
  },
  {
   "cell_type": "code",
   "execution_count": null,
   "outputs": [],
   "source": [
    "data.describe()"
   ],
   "metadata": {
    "collapsed": false,
    "pycharm": {
     "name": "#%%\n",
     "is_executing": true
    }
   }
  },
  {
   "cell_type": "code",
   "execution_count": null,
   "outputs": [],
   "source": [
    "print(data[\"CT_M_A\"].min())  # arousal, control group\n",
    "print(data[\"CT_M_A\"].max())\n",
    "print(data[\"CT_M_V\"].min())  # valence\n",
    "print(data[\"CT_M_V\"].max())\n",
    "print(20 * \"-\")\n",
    "print(data[\"BL_M_A\"].min())\n",
    "print(data[\"BL_M_A\"].max())\n",
    "print(data[\"BL_M_V\"].min())\n",
    "print(data[\"BL_M_V\"].max())\n",
    "print(20 * \"-\")\n",
    "print(data[\"SP_M_A\"].min())\n",
    "print(data[\"SP_M_A\"].max())\n",
    "print(data[\"SP_M_V\"].min())\n",
    "print(data[\"SP_M_V\"].max())\n",
    "print(20 * \"-\")\n",
    "print(data[\"SO_M_A\"].min())\n",
    "print(data[\"SO_M_A\"].max())\n",
    "print(data[\"SO_M_V\"].min())\n",
    "print(data[\"SO_M_V\"].max())"
   ],
   "metadata": {
    "collapsed": false,
    "pycharm": {
     "name": "#%%\n",
     "is_executing": true
    }
   }
  },
  {
   "cell_type": "code",
   "execution_count": 91,
   "outputs": [],
   "source": [
    "data[\"arousal\"] = ((data[\"CT_M_A\"] + data[\"BL_M_A\"] + data[\"SP_M_A\"] + data[\"SO_M_A\"]) / 4).map(\n",
    "    lambda x: (x - 5) / 4)\n",
    "data[\"valence\"] = ((data[\"CT_M_V\"] + data[\"BL_M_V\"] + data[\"SP_M_V\"] + data[\"SO_M_V\"]) / 4).map(\n",
    "    lambda x: (x - 5) / 4)"
   ],
   "metadata": {
    "collapsed": false,
    "pycharm": {
     "name": "#%%\n"
    }
   }
  },
  {
   "cell_type": "code",
   "execution_count": null,
   "outputs": [],
   "source": [
    "print(data[\"arousal\"].max())  # arousal, control group\n",
    "print(data[\"arousal\"].min())\n",
    "print(data[\"valence\"].max())  # valence\n",
    "print(data[\"valence\"].min())"
   ],
   "metadata": {
    "collapsed": false,
    "pycharm": {
     "name": "#%%\n",
     "is_executing": true
    }
   }
  },
  {
   "cell_type": "code",
   "execution_count": null,
   "outputs": [],
   "source": [
    "fig = plt.figure(figsize=(12, 12))\n",
    "fig.tight_layout(pad=20)\n",
    "ax = fig.add_subplot()\n",
    "\n",
    "for index, row in data.iterrows():\n",
    "    ax.scatter(row[\"valence\"], row[\"arousal\"], marker='o')\n",
    "\n",
    "font = {'family': 'serif',\n",
    "        'color': 'black',\n",
    "        'weight': 'normal',\n",
    "        'size': 16,\n",
    "        }\n",
    "\n",
    "ax.set_xlabel('Valence', fontdict=font)\n",
    "ax.set_ylabel('Arousal', fontdict=font)\n",
    "\n",
    "ax.set_xlim(-1.05, 1.05)\n",
    "ax.set_ylim(-1.05, 1.05)\n",
    "\n",
    "plt.grid()\n",
    "plt.title(\"SFIP Valence-Arousal space graph - whole group\", fontdict=font)\n",
    "\n",
    "plt.savefig(\"plots/sfip_whole_group_valence_arousal\")\n",
    "plt.show()"
   ],
   "metadata": {
    "collapsed": false,
    "pycharm": {
     "name": "#%%\n",
     "is_executing": true
    }
   }
  },
  {
   "cell_type": "code",
   "execution_count": 94,
   "outputs": [],
   "source": [
    "data_result = []\n",
    "for index, row in data.iterrows():\n",
    "    data_result.append(\n",
    "        {\"dataset\": \"SFIP\", \"id\": f\"{row['SFIP NAME']}.jpg\", \"valence\": row[\"valence\"],\n",
    "         \"arousal\": row[\"arousal\"]})"
   ],
   "metadata": {
    "collapsed": false,
    "pycharm": {
     "name": "#%%\n"
    }
   }
  },
  {
   "cell_type": "code",
   "execution_count": null,
   "outputs": [],
   "source": [
    "result = pd.DataFrame(data_result)\n",
    "result.tail()"
   ],
   "metadata": {
    "collapsed": false,
    "pycharm": {
     "name": "#%%\n",
     "is_executing": true
    }
   }
  },
  {
   "cell_type": "code",
   "execution_count": null,
   "outputs": [],
   "source": [
    "\n",
    "import os\n",
    "\n",
    "sfip_images = os.listdir(\"../datasets/merged/SFIP_ALL_IMAGES/\")\n",
    "print(sfip_images)\n",
    "\n",
    "sfip_images_id = [i.split(sep='.')[0] for i in sfip_images]\n",
    "\n",
    "print(len(set(sfip_images_id)))\n",
    "\n",
    "for id in data[\"SFIP NAME\"]:\n",
    "\n",
    "    if id not in sfip_images_id:\n",
    "        data.drop(data.loc[data['SFIP NAME'] == id].index, inplace=True)\n",
    "\n",
    "for id in sfip_images_id:\n",
    "\n",
    "    if id not in data[\"SFIP NAME\"].values:\n",
    "        print(id)\n",
    "print(data[\"SFIP NAME\"].count())"
   ],
   "metadata": {
    "collapsed": false,
    "pycharm": {
     "name": "#%%\n",
     "is_executing": true
    }
   }
  },
  {
   "cell_type": "code",
   "execution_count": 84,
   "outputs": [],
   "source": [
    "assert data[\"SFIP NAME\"].count() == len(set(sfip_images_id))"
   ],
   "metadata": {
    "collapsed": false,
    "pycharm": {
     "name": "#%%\n"
    }
   }
  },
  {
   "cell_type": "code",
   "execution_count": null,
   "outputs": [],
   "source": [],
   "metadata": {
    "collapsed": false,
    "pycharm": {
     "name": "#%%\n"
    }
   }
  }
 ],
 "metadata": {
  "kernelspec": {
   "display_name": "Python 3",
   "language": "python",
   "name": "python3"
  },
  "language_info": {
   "codemirror_mode": {
    "name": "ipython",
    "version": 2
   },
   "file_extension": ".py",
   "mimetype": "text/x-python",
   "name": "python",
   "nbconvert_exporter": "python",
   "pygments_lexer": "ipython2",
   "version": "2.7.6"
  }
 },
 "nbformat": 4,
 "nbformat_minor": 0
}