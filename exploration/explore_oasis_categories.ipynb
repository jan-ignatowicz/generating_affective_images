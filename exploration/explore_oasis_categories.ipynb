{
 "cells": [
  {
   "cell_type": "code",
   "execution_count": 68,
   "metadata": {
    "pycharm": {
     "name": "#%%\n"
    }
   },
   "outputs": [],
   "source": [
    "import matplotlib.pyplot as plt\n",
    "import pandas as pd"
   ]
  },
  {
   "cell_type": "code",
   "execution_count": null,
   "metadata": {
    "pycharm": {
     "name": "#%%\n",
     "is_executing": true
    }
   },
   "outputs": [],
   "source": [
    "data = pd.read_csv('../datasets/unzipped/oasis/OASIS.csv')\n",
    "data.head()"
   ]
  },
  {
   "cell_type": "code",
   "execution_count": null,
   "outputs": [],
   "source": [
    "data.columns"
   ],
   "metadata": {
    "collapsed": false,
    "pycharm": {
     "name": "#%%\n",
     "is_executing": true
    }
   }
  },
  {
   "cell_type": "code",
   "execution_count": null,
   "outputs": [],
   "source": [
    "data.describe()"
   ],
   "metadata": {
    "collapsed": false,
    "pycharm": {
     "name": "#%%\n",
     "is_executing": true
    }
   }
  },
  {
   "cell_type": "code",
   "execution_count": null,
   "metadata": {
    "pycharm": {
     "name": "#%%\n",
     "is_executing": true
    }
   },
   "outputs": [],
   "source": [
    "print(data[\"Arousal_mean\"].max())\n",
    "print(data[\"Arousal_mean\"].min())\n",
    "print(data[\"Valence_mean\"].max())\n",
    "print(data[\"Valence_mean\"].min())"
   ]
  },
  {
   "cell_type": "code",
   "execution_count": 6,
   "outputs": [],
   "source": [
    "data[\"Arousal_mean\"] = data[\"Arousal_mean\"].map(lambda x: (x - 4) / 3)\n",
    "data[\"Valence_mean\"] = data[\"Valence_mean\"].map(lambda x: (x - 4) / 3)"
   ],
   "metadata": {
    "collapsed": false,
    "pycharm": {
     "name": "#%%\n"
    }
   }
  },
  {
   "cell_type": "code",
   "execution_count": null,
   "outputs": [],
   "source": [
    "print(data.Arousal_mean.max())\n",
    "print(data.Arousal_mean.min())\n",
    "print(data.Valence_mean.max())\n",
    "print(data.Valence_mean.min())"
   ],
   "metadata": {
    "collapsed": false,
    "pycharm": {
     "name": "#%%\n",
     "is_executing": true
    }
   }
  },
  {
   "cell_type": "code",
   "execution_count": null,
   "outputs": [],
   "source": [
    "import math\n",
    "\n",
    "fig = plt.figure(figsize=(12, 12))\n",
    "fig.tight_layout(pad=20)\n",
    "ax = fig.add_subplot()\n",
    "\n",
    "for index, row in data.iterrows():\n",
    "    ax.scatter(row[\"Valence_mean\"], row[\"Arousal_mean\"], marker='o')\n",
    "\n",
    "font = {'family': 'serif',\n",
    "        'color': 'black',\n",
    "        'weight': 'normal',\n",
    "        'size': 16,\n",
    "        }\n",
    "\n",
    "ax.set_xlabel('Valence', fontdict=font)\n",
    "ax.set_ylabel('Arousal', fontdict=font)\n",
    "\n",
    "r = 0.25\n",
    "circle = plt.Circle((0, 0), r, color='r', fill=False, linewidth=2)\n",
    "ax.add_patch(circle)\n",
    "\n",
    "plt.plot([0, 0], [r, 1], color='r', linewidth=2)\n",
    "plt.plot([r * math.cos(math.pi / 3), math.sqrt(3) / 3], [r * math.sin(math.pi / 3), 1], color='r',\n",
    "         linewidth=2)\n",
    "plt.plot([r * math.cos(math.pi / 6), 1], [r * math.sin(math.pi / 6), math.sqrt(3) / 3], color='r',\n",
    "         linewidth=2)\n",
    "plt.plot([r, 1], [0, 0], color='r', linewidth=2)\n",
    "plt.plot([r * math.cos(math.pi / 6), 1], [-r * math.sin(math.pi / 6), -math.sqrt(3) / 3], color='r',\n",
    "         linewidth=2)\n",
    "plt.plot([r * math.cos(math.pi / 3), math.sqrt(3) / 3], [-r * math.sin(math.pi / 3), -1], color='r',\n",
    "         linewidth=2)\n",
    "plt.plot([0, 0], [-1, -r], color='r', linewidth=2)\n",
    "plt.plot([-r * math.cos(math.pi / 3), -math.sqrt(3) / 3], [-r * math.sin(math.pi / 3), -1],\n",
    "         color='r',\n",
    "         linewidth=2)\n",
    "plt.plot([-r * math.cos(math.pi / 6), -1], [-r * math.sin(math.pi / 6), -math.sqrt(3) / 3],\n",
    "         color='r',\n",
    "         linewidth=2)\n",
    "plt.plot([-1, -r], [0, 0], color='r', linewidth=2)\n",
    "plt.plot([-r * math.cos(math.pi / 6), -1], [r * math.sin(math.pi / 6), math.sqrt(3) / 3], color='r',\n",
    "         linewidth=2)\n",
    "plt.plot([-r * math.cos(math.pi / 3), -math.sqrt(3) / 3], [r * math.sin(math.pi / 3), 1], color='r',\n",
    "         linewidth=2)\n",
    "\n",
    "plt.text(0.1, 0.95, \"Excited\", fontsize=20, color=\"r\")\n",
    "plt.text(0.65, 0.8, \"Delighted\", fontsize=20, color=\"r\")\n",
    "plt.text(0.8, 0.25, \"Happy\", fontsize=20, color=\"r\")\n",
    "plt.text(0.75, -0.25, \"Content\", fontsize=20, color=\"r\")\n",
    "plt.text(0.7, -0.8, \"Relaxed\", fontsize=20, color=\"r\")\n",
    "plt.text(0.15, -0.95, \"Calm\", fontsize=20, color=\"r\")\n",
    "plt.text(-0.35, -0.95, \"Tired\", fontsize=20, color=\"r\")\n",
    "plt.text(-0.9, -0.8, \"Bored\", fontsize=20, color=\"r\")\n",
    "plt.text(-1, -0.25, \"Depressed\", fontsize=20, color=\"r\")\n",
    "plt.text(-1, 0.25, \"Frustrated\", fontsize=20, color=\"r\")\n",
    "plt.text(-0.9, 0.8, \"Angry\", fontsize=20, color=\"r\")\n",
    "plt.text(-0.35, 0.95, \"Tense\", fontsize=20, color=\"r\")\n",
    "\n",
    "ax.set_xlim(-1.05, 1.05)\n",
    "ax.set_ylim(-1.05, 1.05)\n",
    "\n",
    "plt.grid()\n",
    "plt.title(\"OASIS Valence-Arousal space graph\", fontdict=font)\n",
    "\n",
    "plt.savefig(\"plots/oasis_valence_arousal\")\n",
    "plt.show()"
   ],
   "metadata": {
    "collapsed": false,
    "pycharm": {
     "name": "#%%\n",
     "is_executing": true
    }
   }
  },
  {
   "cell_type": "code",
   "execution_count": 28,
   "outputs": [],
   "source": [
    "data_result = []\n",
    "for index, row in data.iterrows():\n",
    "    data_result.append(\n",
    "        {\"dataset\": \"OASIS\", \"id\": f\"{row.Theme.strip()}.jpg\", \"val\": row.Valence_mean,\n",
    "         \"aro\": row.Arousal_mean})"
   ],
   "metadata": {
    "collapsed": false,
    "pycharm": {
     "name": "#%%\n"
    }
   }
  },
  {
   "cell_type": "code",
   "execution_count": null,
   "outputs": [],
   "source": [
    "result = pd.DataFrame(data_result)\n",
    "result.head()"
   ],
   "metadata": {
    "collapsed": false,
    "pycharm": {
     "name": "#%%\n",
     "is_executing": true
    }
   }
  },
  {
   "cell_type": "code",
   "execution_count": 25,
   "outputs": [],
   "source": [],
   "metadata": {
    "collapsed": false,
    "pycharm": {
     "name": "#%%\n"
    }
   }
  }
 ],
 "metadata": {
  "kernelspec": {
   "display_name": "Python 3 (ipykernel)",
   "language": "python",
   "name": "python3"
  },
  "language_info": {
   "codemirror_mode": {
    "name": "ipython",
    "version": 3
   },
   "file_extension": ".py",
   "mimetype": "text/x-python",
   "name": "python",
   "nbconvert_exporter": "python",
   "pygments_lexer": "ipython3",
   "version": "3.9.12"
  }
 },
 "nbformat": 4,
 "nbformat_minor": 1
}