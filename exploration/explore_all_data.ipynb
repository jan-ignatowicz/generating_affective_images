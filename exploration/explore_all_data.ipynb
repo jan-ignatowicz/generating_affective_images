{
 "cells": [
  {
   "cell_type": "code",
   "execution_count": 1,
   "metadata": {
    "collapsed": true,
    "pycharm": {
     "name": "#%%\n"
    }
   },
   "outputs": [],
   "source": [
    "import math\n",
    "import os\n",
    "import random\n",
    "\n",
    "import matplotlib.pyplot as plt\n",
    "import numpy as np\n",
    "import pandas as pd"
   ]
  },
  {
   "cell_type": "code",
   "execution_count": null,
   "outputs": [],
   "source": [
    "data = pd.read_csv('../preprocess/csv_files/ALL_DATA.csv')\n",
    "data.count()"
   ],
   "metadata": {
    "collapsed": false,
    "pycharm": {
     "name": "#%%\n",
     "is_executing": true
    }
   }
  },
  {
   "cell_type": "code",
   "execution_count": null,
   "outputs": [],
   "source": [
    "print(data[\"arousal\"].max())  # arousal, control group\n",
    "print(data[\"arousal\"].min())\n",
    "print(data[\"valence\"].max())  # valence\n",
    "print(data[\"valence\"].min())"
   ],
   "metadata": {
    "collapsed": false,
    "pycharm": {
     "name": "#%%\n",
     "is_executing": true
    }
   }
  },
  {
   "cell_type": "code",
   "execution_count": null,
   "outputs": [],
   "source": [
    "data.groupby(\"dataset\").count().rename(columns={\"id\": \"amount\"})[\"amount\"]"
   ],
   "metadata": {
    "collapsed": false,
    "pycharm": {
     "name": "#%%\n",
     "is_executing": true
    }
   }
  },
  {
   "cell_type": "code",
   "execution_count": null,
   "outputs": [],
   "source": [
    "def get_quarter(valence, arousal):\n",
    "    if valence >= 0 and arousal >= 0:\n",
    "        return 1\n",
    "    elif valence < 0 and arousal >= 0:\n",
    "        return 2\n",
    "    elif valence < 0 and arousal < 0:\n",
    "        return 3\n",
    "    else:\n",
    "        return 4\n",
    "\n",
    "\n",
    "data['quarter'] = data.apply(lambda row: get_quarter(row['valence'], row['arousal']), axis=1)\n",
    "\n",
    "data.head()"
   ],
   "metadata": {
    "collapsed": false,
    "pycharm": {
     "name": "#%%\n",
     "is_executing": true
    }
   }
  },
  {
   "cell_type": "code",
   "execution_count": null,
   "outputs": [],
   "source": [
    "data.groupby([\"quarter\", \"dataset\"]).count().rename(columns={\"id\": \"amount\"})[\"amount\"]"
   ],
   "metadata": {
    "collapsed": false,
    "pycharm": {
     "name": "#%%\n",
     "is_executing": true
    }
   }
  },
  {
   "cell_type": "code",
   "execution_count": null,
   "outputs": [],
   "source": [
    "data.groupby([\"quarter\"]).count()"
   ],
   "metadata": {
    "collapsed": false,
    "pycharm": {
     "name": "#%%\n",
     "is_executing": true
    }
   }
  },
  {
   "cell_type": "code",
   "execution_count": null,
   "outputs": [],
   "source": [
    "fig = plt.figure(figsize=(12, 12))\n",
    "fig.tight_layout(pad=20)\n",
    "ax = fig.add_subplot()\n",
    "\n",
    "for index, row in data.iterrows():\n",
    "    ax.scatter(row[\"valence\"], row[\"arousal\"], marker='o')\n",
    "\n",
    "font = {'family': 'serif',\n",
    "        'color': 'black',\n",
    "        'weight': 'normal',\n",
    "        'size': 16,\n",
    "        }\n",
    "\n",
    "ax.set_xlabel('Valence', fontdict=font)\n",
    "ax.set_ylabel('Arousal', fontdict=font)\n",
    "\n",
    "ax.set_xlim(-1.05, 1.05)\n",
    "ax.set_ylim(-1.05, 1.05)\n",
    "\n",
    "plt.grid()\n",
    "plt.title(\"All data Valence-Arousal space graph\", fontdict=font)\n",
    "\n",
    "plt.savefig(\"plots/all_data_valence_arousal\")\n",
    "plt.show()"
   ],
   "metadata": {
    "collapsed": false,
    "pycharm": {
     "name": "#%%\n",
     "is_executing": true
    }
   }
  },
  {
   "cell_type": "code",
   "execution_count": null,
   "outputs": [],
   "source": [
    "fig = plt.figure(figsize=(12, 12))\n",
    "fig.tight_layout(pad=20)\n",
    "ax = fig.add_subplot()\n",
    "\n",
    "for index, row in data.iterrows():\n",
    "    ax.scatter(row[\"valence\"], row[\"arousal\"], marker='o', color=\"lightblue\")\n",
    "\n",
    "font = {'family': 'serif',\n",
    "        'color': 'black',\n",
    "        'weight': 'normal',\n",
    "        'size': 16,\n",
    "        }\n",
    "\n",
    "ax.set_xlabel('Valence', fontdict=font)\n",
    "ax.set_ylabel('Arousal', fontdict=font)\n",
    "\n",
    "r = 0.25\n",
    "circle = plt.Circle((0, 0), r, color='r', fill=False, linewidth=2)\n",
    "ax.add_patch(circle)\n",
    "\n",
    "plt.plot([0, 0], [r, 1], color='r', linewidth=2)\n",
    "plt.plot([r * math.cos(math.pi / 3), math.sqrt(3) / 3], [r * math.sin(math.pi / 3), 1], color='r',\n",
    "         linewidth=2)\n",
    "plt.plot([r * math.cos(math.pi / 6), 1], [r * math.sin(math.pi / 6), math.sqrt(3) / 3], color='r',\n",
    "         linewidth=2)\n",
    "plt.plot([r, 1], [0, 0], color='r', linewidth=2)\n",
    "plt.plot([r * math.cos(math.pi / 6), 1], [-r * math.sin(math.pi / 6), -math.sqrt(3) / 3], color='r',\n",
    "         linewidth=2)\n",
    "plt.plot([r * math.cos(math.pi / 3), math.sqrt(3) / 3], [-r * math.sin(math.pi / 3), -1], color='r',\n",
    "         linewidth=2)\n",
    "plt.plot([0, 0], [-1, -r], color='r', linewidth=2)\n",
    "plt.plot([-r * math.cos(math.pi / 3), -math.sqrt(3) / 3], [-r * math.sin(math.pi / 3), -1],\n",
    "         color='r',\n",
    "         linewidth=2)\n",
    "plt.plot([-r * math.cos(math.pi / 6), -1], [-r * math.sin(math.pi / 6), -math.sqrt(3) / 3],\n",
    "         color='r',\n",
    "         linewidth=2)\n",
    "plt.plot([-1, -r], [0, 0], color='r', linewidth=2)\n",
    "plt.plot([-r * math.cos(math.pi / 6), -1], [r * math.sin(math.pi / 6), math.sqrt(3) / 3], color='r',\n",
    "         linewidth=2)\n",
    "plt.plot([-r * math.cos(math.pi / 3), -math.sqrt(3) / 3], [r * math.sin(math.pi / 3), 1], color='r',\n",
    "         linewidth=2)\n",
    "\n",
    "plt.text(-0.11, -0.005, \"Neutral\", fontsize=20, color=\"r\")\n",
    "plt.text(0.1, 0.95, \"Excited\", fontsize=20, color=\"r\")\n",
    "plt.text(0.65, 0.8, \"Delighted\", fontsize=20, color=\"r\")\n",
    "plt.text(0.8, 0.25, \"Happy\", fontsize=20, color=\"r\")\n",
    "plt.text(0.75, -0.25, \"Content\", fontsize=20, color=\"r\")\n",
    "plt.text(0.7, -0.8, \"Relaxed\", fontsize=20, color=\"r\")\n",
    "plt.text(0.15, -0.95, \"Calm\", fontsize=20, color=\"r\")\n",
    "plt.text(-0.35, -0.95, \"Tired\", fontsize=20, color=\"r\")\n",
    "plt.text(-0.9, -0.8, \"Bored\", fontsize=20, color=\"r\")\n",
    "plt.text(-1, -0.25, \"Depressed\", fontsize=20, color=\"r\")\n",
    "plt.text(-1, 0.25, \"Frustrated\", fontsize=20, color=\"r\")\n",
    "plt.text(-0.9, 0.8, \"Angry\", fontsize=20, color=\"r\")\n",
    "plt.text(-0.35, 0.95, \"Tense\", fontsize=20, color=\"r\")\n",
    "\n",
    "ax.set_xlim(-1.05, 1.05)\n",
    "ax.set_ylim(-1.05, 1.05)\n",
    "\n",
    "plt.grid()\n",
    "plt.title(\"All data Valence-Arousal assigned to groups\", fontdict=font)\n",
    "\n",
    "plt.savefig(\"plots/all_data_valence_arousal_classified\")\n",
    "plt.show()"
   ],
   "metadata": {
    "collapsed": false,
    "pycharm": {
     "name": "#%%\n"
    }
   }
  },
  {
   "cell_type": "code",
   "execution_count": 10,
   "outputs": [],
   "source": [
    "labels_map = {0: \"neutral\", 1: \"content\", 2: \"relaxed\", 3: \"calm\", 4: \"tired\", 5: \"bored\",\n",
    "              6: \"depressed\", 7: \"frustrated\", 8: \"angry\", 9: \"tense\", 10: \"excited\",\n",
    "              11: \"delighted\", 12: \"happy\"}"
   ],
   "metadata": {
    "collapsed": false,
    "pycharm": {
     "name": "#%%\n"
    }
   }
  },
  {
   "cell_type": "code",
   "execution_count": 11,
   "outputs": [],
   "source": [
    "def calc_angle(p1, p2):\n",
    "    ang1 = np.arctan2(*p1[::-1])\n",
    "    ang2 = np.arctan2(*p2[::-1])\n",
    "    return np.rad2deg((ang1 - ang2) % (2 * np.pi))\n",
    "\n",
    "\n",
    "data_result = []\n",
    "for index, row in data.iterrows():\n",
    "    angle = calc_angle((0, 0), (row.valence, row.arousal))\n",
    "\n",
    "    if abs(row.valence) <= 0.25 and abs(row.arousal) <= 0.25:\n",
    "        data_result.append({\"dataset\": row.dataset, \"id\": row.id, \"valence\": row.valence,\n",
    "                            \"arousal\": row.arousal, \"category\": \"neutral\", \"category_id\": 0})\n",
    "    elif 0 <= angle < 30:\n",
    "        data_result.append({\"dataset\": row.dataset, \"id\": row.id, \"valence\": row.valence,\n",
    "                            \"arousal\": row.arousal, \"category\": \"content\", \"category_id\": 1})\n",
    "    elif 30 <= angle < 60:\n",
    "        data_result.append({\"dataset\": row.dataset, \"id\": row.id, \"valence\": row.valence,\n",
    "                            \"arousal\": row.arousal, \"category\": \"relaxed\", \"category_id\": 2})\n",
    "    elif 60 <= angle < 90:\n",
    "        data_result.append({\"dataset\": row.dataset, \"id\": row.id, \"valence\": row.valence,\n",
    "                            \"arousal\": row.arousal, \"category\": \"calm\", \"category_id\": 3})\n",
    "    elif 90 <= angle < 120:\n",
    "        data_result.append({\"dataset\": row.dataset, \"id\": row.id, \"valence\": row.valence,\n",
    "                            \"arousal\": row.arousal, \"category\": \"tired\", \"category_id\": 4})\n",
    "    elif 120 <= angle < 150:\n",
    "        data_result.append({\"dataset\": row.dataset, \"id\": row.id, \"valence\": row.valence,\n",
    "                            \"arousal\": row.arousal, \"category\": \"bored\", \"category_id\": 5})\n",
    "    elif 150 <= angle < 180:\n",
    "        data_result.append({\"dataset\": row.dataset, \"id\": row.id, \"valence\": row.valence,\n",
    "                            \"arousal\": row.arousal, \"category\": \"depressed\", \"category_id\": 6})\n",
    "    elif 180 <= angle < 210:\n",
    "        data_result.append({\"dataset\": row.dataset, \"id\": row.id, \"valence\": row.valence,\n",
    "                            \"arousal\": row.arousal, \"category\": \"frustrated\", \"category_id\": 7})\n",
    "    elif 210 <= angle < 240:\n",
    "        data_result.append({\"dataset\": row.dataset, \"id\": row.id, \"valence\": row.valence,\n",
    "                            \"arousal\": row.arousal, \"category\": \"angry\", \"category_id\": 8})\n",
    "    elif 240 <= angle < 270:\n",
    "        data_result.append({\"dataset\": row.dataset, \"id\": row.id, \"valence\": row.valence,\n",
    "                            \"arousal\": row.arousal, \"category\": \"tense\", \"category_id\": 9})\n",
    "    elif 270 <= angle < 300:\n",
    "        data_result.append({\"dataset\": row.dataset, \"id\": row.id, \"valence\": row.valence,\n",
    "                            \"arousal\": row.arousal, \"category\": \"excited\", \"category_id\": 10})\n",
    "    elif 300 <= angle < 330:\n",
    "        data_result.append({\"dataset\": row.dataset, \"id\": row.id, \"valence\": row.valence,\n",
    "                            \"arousal\": row.arousal, \"category\": \"delighted\", \"category_id\": 11})\n",
    "    elif 330 <= angle < 360:\n",
    "        data_result.append({\"dataset\": row.dataset, \"id\": row.id, \"valence\": row.valence,\n",
    "                            \"arousal\": row.arousal, \"category\": \"happy\", \"category_id\": 12})\n",
    "    else:\n",
    "        print(\"Angle not in range!\")"
   ],
   "metadata": {
    "collapsed": false,
    "pycharm": {
     "name": "#%%\n"
    }
   }
  },
  {
   "cell_type": "code",
   "execution_count": null,
   "outputs": [],
   "source": [
    "result = pd.DataFrame(data_result)\n",
    "result.head()"
   ],
   "metadata": {
    "collapsed": false,
    "pycharm": {
     "name": "#%%\n",
     "is_executing": true
    }
   }
  },
  {
   "cell_type": "code",
   "execution_count": null,
   "outputs": [],
   "source": [
    "result.groupby([\"category\"]).count().rename(columns={\"id\": \"amount\"})[\"amount\"]"
   ],
   "metadata": {
    "collapsed": false,
    "pycharm": {
     "name": "#%%\n",
     "is_executing": true
    }
   }
  },
  {
   "cell_type": "code",
   "execution_count": 14,
   "outputs": [],
   "source": [
    "# empty"
   ],
   "metadata": {
    "collapsed": false,
    "pycharm": {
     "name": "#%%\n"
    }
   }
  },
  {
   "cell_type": "code",
   "execution_count": null,
   "outputs": [],
   "source": [
    "data = pd.read_csv('../preprocess/csv_files/EMOMADRID.csv')\n",
    "data.count()"
   ],
   "metadata": {
    "collapsed": false,
    "pycharm": {
     "name": "#%%\n",
     "is_executing": true
    }
   }
  },
  {
   "cell_type": "code",
   "execution_count": null,
   "outputs": [],
   "source": [
    "data = pd.read_csv('../preprocess/csv_files/GAPED.csv')\n",
    "data.count()"
   ],
   "metadata": {
    "collapsed": false,
    "pycharm": {
     "name": "#%%\n",
     "is_executing": true
    }
   }
  },
  {
   "cell_type": "code",
   "execution_count": null,
   "outputs": [],
   "source": [
    "data = pd.read_csv('../preprocess/csv_files/IAPS.csv')\n",
    "data.count()"
   ],
   "metadata": {
    "collapsed": false,
    "pycharm": {
     "name": "#%%\n",
     "is_executing": true
    }
   }
  },
  {
   "cell_type": "code",
   "execution_count": null,
   "outputs": [],
   "source": [
    "data = pd.read_csv('../preprocess/csv_files/NAPS_H.csv')\n",
    "data.count()"
   ],
   "metadata": {
    "collapsed": false,
    "pycharm": {
     "name": "#%%\n",
     "is_executing": true
    }
   }
  },
  {
   "cell_type": "code",
   "execution_count": null,
   "outputs": [],
   "source": [
    "data = pd.read_csv('../preprocess/csv_files/NAPS_H.csv')\n",
    "data.count()"
   ],
   "metadata": {
    "collapsed": false,
    "pycharm": {
     "name": "#%%\n"
    }
   }
  },
  {
   "cell_type": "code",
   "execution_count": null,
   "outputs": [],
   "source": [
    "data = pd.read_csv('../preprocess/csv_files/OASIS.csv')\n",
    "data.count()"
   ],
   "metadata": {
    "collapsed": false,
    "pycharm": {
     "name": "#%%\n"
    }
   }
  },
  {
   "cell_type": "code",
   "execution_count": null,
   "outputs": [],
   "source": [
    "data = pd.read_csv('../preprocess/csv_files/SFIP.csv')\n",
    "data.count()\n"
   ],
   "metadata": {
    "collapsed": false,
    "pycharm": {
     "name": "#%%\n"
    }
   }
  },
  {
   "cell_type": "code",
   "execution_count": null,
   "outputs": [],
   "source": [
    "data.describe()"
   ],
   "metadata": {
    "collapsed": false,
    "pycharm": {
     "name": "#%%\n"
    }
   }
  },
  {
   "cell_type": "code",
   "execution_count": null,
   "outputs": [],
   "source": [
    "data_to_augment = pd.read_csv('../preprocess/csv_files/ALL_DATA.csv')\n",
    "\n",
    "training_data = []\n",
    "for index, row in data_to_augment.iterrows():\n",
    "    image_name, img_ext = os.path.splitext(row.id)\n",
    "    training_data.append(\n",
    "        {\"id\": f\"{row.dataset}_{image_name}_base{img_ext}\", \"label\": row.category_id})\n",
    "    training_data.append(\n",
    "        {\"id\": f\"{row.dataset}_{image_name}_detail{img_ext}\", \"label\": row.category_id})\n",
    "    training_data.append(\n",
    "        {\"id\": f\"{row.dataset}_{image_name}_edgeenhance{img_ext}\", \"label\": row.category_id})\n",
    "    training_data.append(\n",
    "        {\"id\": f\"{row.dataset}_{image_name}_bright{img_ext}\", \"label\": row.category_id})\n",
    "    training_data.append(\n",
    "        {\"id\": f\"{row.dataset}_{image_name}_bright2{img_ext}\", \"label\": row.category_id})\n",
    "    training_data.append(\n",
    "        {\"id\": f\"{row.dataset}_{image_name}_rotate90{img_ext}\", \"label\": row.category_id})\n",
    "    training_data.append(\n",
    "        {\"id\": f\"{row.dataset}_{image_name}_rotate180{img_ext}\", \"label\": row.category_id})\n",
    "    training_data.append(\n",
    "        {\"id\": f\"{row.dataset}_{image_name}_rotate270{img_ext}\", \"label\": row.category_id})\n",
    "\n",
    "training_data_result = pd.DataFrame(training_data)\n",
    "training_data_result.head()"
   ],
   "metadata": {
    "collapsed": false,
    "pycharm": {
     "name": "#%%\n",
     "is_executing": true
    }
   }
  },
  {
   "cell_type": "code",
   "execution_count": null,
   "outputs": [],
   "source": [
    "training_data_result.count()"
   ],
   "metadata": {
    "collapsed": false,
    "pycharm": {
     "name": "#%%\n",
     "is_executing": true
    }
   }
  },
  {
   "cell_type": "code",
   "execution_count": null,
   "outputs": [],
   "source": [
    "data = pd.read_csv('../preprocess/csv_files/ALL_DATA.csv')\n",
    "data.count()"
   ],
   "metadata": {
    "collapsed": false,
    "pycharm": {
     "name": "#%%\n",
     "is_executing": true
    }
   }
  },
  {
   "cell_type": "code",
   "execution_count": null,
   "outputs": [],
   "source": [
    "data[(data[\"dataset\"] == \"EMOMADRID\") & (data[\"id\"] == \"EM0001.jpg\")]"
   ],
   "metadata": {
    "collapsed": false,
    "pycharm": {
     "name": "#%%\n",
     "is_executing": true
    }
   }
  },
  {
   "cell_type": "code",
   "execution_count": null,
   "outputs": [],
   "source": [
    "training_data = []\n",
    "validation_data = []\n",
    "for index, row in data.iterrows():\n",
    "    if random.random() < 0.2:\n",
    "        validation_data.append({\"id\": f\"{row.dataset}_{row.id}\", \"label\": row.category_id})\n",
    "    else:\n",
    "        training_data.append({\"id\": f\"{row.dataset}_{row.id}\", \"label\": row.category_id})\n",
    "\n",
    "training_data = pd.DataFrame(training_data)\n",
    "training_data.count()"
   ],
   "metadata": {
    "collapsed": false,
    "pycharm": {
     "name": "#%%\n",
     "is_executing": true
    }
   }
  },
  {
   "cell_type": "code",
   "execution_count": null,
   "outputs": [],
   "source": [
    "validation_data = pd.DataFrame(validation_data)\n",
    "validation_data.count()"
   ],
   "metadata": {
    "collapsed": false,
    "pycharm": {
     "name": "#%%\n",
     "is_executing": true
    }
   }
  }
 ],
 "metadata": {
  "kernelspec": {
   "display_name": "Python 3",
   "language": "python",
   "name": "python3"
  },
  "language_info": {
   "codemirror_mode": {
    "name": "ipython",
    "version": 2
   },
   "file_extension": ".py",
   "mimetype": "text/x-python",
   "name": "python",
   "nbconvert_exporter": "python",
   "pygments_lexer": "ipython2",
   "version": "2.7.6"
  }
 },
 "nbformat": 4,
 "nbformat_minor": 0
}