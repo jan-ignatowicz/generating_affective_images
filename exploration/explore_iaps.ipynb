{
 "cells": [
  {
   "cell_type": "code",
   "execution_count": 11,
   "metadata": {
    "collapsed": true,
    "pycharm": {
     "name": "#%%\n"
    }
   },
   "outputs": [],
   "source": [
    "import matplotlib.pyplot as plt\n",
    "import pandas as pd"
   ]
  },
  {
   "cell_type": "code",
   "execution_count": null,
   "outputs": [],
   "source": [
    "data = pd.read_excel(\n",
    "    '../datasets/unzipped/OneDrive_1_16-03-2021/IAPS. International Affective Picture System/IAPS. Tech Report/AllSubjects_1-20.ods',\n",
    "    engine='odf')\n",
    "data.head()"
   ],
   "metadata": {
    "collapsed": false,
    "pycharm": {
     "name": "#%%\n",
     "is_executing": true
    }
   }
  },
  {
   "cell_type": "code",
   "execution_count": null,
   "outputs": [],
   "source": [
    "data.columns"
   ],
   "metadata": {
    "collapsed": false,
    "pycharm": {
     "name": "#%%\n",
     "is_executing": true
    }
   }
  },
  {
   "cell_type": "code",
   "execution_count": null,
   "outputs": [],
   "source": [
    "data[\"desc\"].unique()"
   ],
   "metadata": {
    "collapsed": false,
    "pycharm": {
     "name": "#%%\n",
     "is_executing": true
    }
   }
  },
  {
   "cell_type": "code",
   "execution_count": null,
   "outputs": [],
   "source": [
    "data.describe()"
   ],
   "metadata": {
    "collapsed": false,
    "pycharm": {
     "name": "#%%\n",
     "is_executing": true
    }
   }
  },
  {
   "cell_type": "code",
   "execution_count": null,
   "outputs": [],
   "source": [
    "print(data[\"aromn\"].max())\n",
    "print(data[\"aromn\"].min())\n",
    "print(data[\"valmn\"].max())\n",
    "print(data[\"valmn\"].min())"
   ],
   "metadata": {
    "collapsed": false,
    "pycharm": {
     "name": "#%%\n",
     "is_executing": true
    }
   }
  },
  {
   "cell_type": "code",
   "execution_count": 16,
   "outputs": [],
   "source": [
    "data[\"aromn\"] = data[\"aromn\"].map(lambda x: (x - 5) / 4)\n",
    "data[\"valmn\"] = data[\"valmn\"].map(lambda x: (x - 5) / 4)"
   ],
   "metadata": {
    "collapsed": false,
    "pycharm": {
     "name": "#%%\n"
    }
   }
  },
  {
   "cell_type": "code",
   "execution_count": null,
   "outputs": [],
   "source": [
    "print(data.aromn.max())\n",
    "print(data.aromn.min())\n",
    "print(data.valmn.max())\n",
    "print(data.valmn.min())"
   ],
   "metadata": {
    "collapsed": false,
    "pycharm": {
     "name": "#%%\n",
     "is_executing": true
    }
   }
  },
  {
   "cell_type": "code",
   "execution_count": null,
   "outputs": [],
   "source": [
    "fig = plt.figure(figsize=(12, 12))\n",
    "fig.tight_layout(pad=20)\n",
    "ax = fig.add_subplot()\n",
    "\n",
    "for index, row in data.iterrows():\n",
    "    ax.scatter(row[\"valmn\"], row[\"aromn\"], marker='o')\n",
    "\n",
    "font = {'family': 'serif',\n",
    "        'color': 'black',\n",
    "        'weight': 'normal',\n",
    "        'size': 16,\n",
    "        }\n",
    "\n",
    "ax.set_xlabel('Valence', fontdict=font)\n",
    "ax.set_ylabel('Arousal', fontdict=font)\n",
    "\n",
    "ax.set_xlim(-1.05, 1.05)\n",
    "ax.set_ylim(-1.05, 1.05)\n",
    "\n",
    "plt.grid()\n",
    "plt.title(\"IAPS Valence-Arousal space graph\", fontdict=font)\n",
    "\n",
    "plt.savefig(\"plots/iaps_valence_arousal\")\n",
    "plt.show()"
   ],
   "metadata": {
    "collapsed": false,
    "pycharm": {
     "name": "#%%\n",
     "is_executing": true
    }
   }
  },
  {
   "cell_type": "code",
   "execution_count": 25,
   "outputs": [],
   "source": [
    "data_result = []\n",
    "for index, row in data.iterrows():\n",
    "    data_result.append(\n",
    "        {\"dataset\": \"IAPS\", \"id\": f\"{row.desc.strip()}_{row.IAPS}.jpg\", \"valence\": row.valmn,\n",
    "         \"arousal\": row.aromn})"
   ],
   "metadata": {
    "collapsed": false,
    "pycharm": {
     "name": "#%%\n"
    }
   }
  },
  {
   "cell_type": "code",
   "execution_count": null,
   "outputs": [],
   "source": [
    "result = pd.DataFrame(data_result)\n",
    "result.head()"
   ],
   "metadata": {
    "collapsed": false,
    "pycharm": {
     "name": "#%%\n",
     "is_executing": true
    }
   }
  },
  {
   "cell_type": "code",
   "execution_count": null,
   "outputs": [],
   "source": [
    "import os\n",
    "\n",
    "iaps_images = os.listdir(\"../datasets/merged/IAPS_ALL_IMAGES/\")\n",
    "\n",
    "iaps_images_id = [float('.'.join(i.split(sep='.')[:-1])) for i in iaps_images]\n",
    "\n",
    "assert len(set(iaps_images_id)) == len(set(iaps_images))\n",
    "\n",
    "print([i for i, d in enumerate(data[\"IAPS\"].duplicated()) if d == True])\n",
    "\n",
    "print(\"end\")"
   ],
   "metadata": {
    "collapsed": false,
    "pycharm": {
     "name": "#%%\n",
     "is_executing": true
    }
   }
  },
  {
   "cell_type": "code",
   "execution_count": 132,
   "outputs": [],
   "source": [
    "data.drop_duplicates(subset=['IAPS'], inplace=True)\n",
    "\n",
    "assert data[\"IAPS\"].count() == len(set(iaps_images_id))"
   ],
   "metadata": {
    "collapsed": false,
    "pycharm": {
     "name": "#%%\n"
    }
   }
  },
  {
   "cell_type": "code",
   "execution_count": null,
   "outputs": [],
   "source": [
    "data.head(30)"
   ],
   "metadata": {
    "collapsed": false,
    "pycharm": {
     "name": "#%%\n",
     "is_executing": true
    }
   }
  },
  {
   "cell_type": "code",
   "execution_count": null,
   "outputs": [],
   "source": [],
   "metadata": {
    "collapsed": false,
    "pycharm": {
     "name": "#%%\n"
    }
   }
  }
 ],
 "metadata": {
  "kernelspec": {
   "display_name": "Python 3",
   "language": "python",
   "name": "python3"
  },
  "language_info": {
   "codemirror_mode": {
    "name": "ipython",
    "version": 2
   },
   "file_extension": ".py",
   "mimetype": "text/x-python",
   "name": "python",
   "nbconvert_exporter": "python",
   "pygments_lexer": "ipython2",
   "version": "2.7.6"
  }
 },
 "nbformat": 4,
 "nbformat_minor": 0
}