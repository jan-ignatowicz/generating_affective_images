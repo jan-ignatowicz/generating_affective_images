{
 "cells": [
  {
   "cell_type": "code",
   "execution_count": 1,
   "outputs": [],
   "source": [
    "import matplotlib.pyplot as plt\n",
    "import pandas as pd"
   ],
   "metadata": {
    "collapsed": false,
    "pycharm": {
     "name": "#%%\n"
    }
   }
  },
  {
   "cell_type": "code",
   "execution_count": null,
   "metadata": {
    "collapsed": true,
    "pycharm": {
     "name": "#%%\n",
     "is_executing": true
    }
   },
   "outputs": [],
   "source": [
    "data = pd.read_excel(\n",
    "    '../datasets/unzipped/OneDrive_1_16-03-2021/NAPS. Nencki Affective Picture System/Valence, arousal and approach-avoidance ratings (Marchewka et al., 2014).xls',\n",
    "    engine='xlrd', skiprows=2)\n",
    "data.head()"
   ]
  },
  {
   "cell_type": "code",
   "execution_count": null,
   "outputs": [],
   "source": [
    "data.columns"
   ],
   "metadata": {
    "collapsed": false,
    "pycharm": {
     "name": "#%%\n",
     "is_executing": true
    }
   }
  },
  {
   "cell_type": "code",
   "execution_count": null,
   "outputs": [],
   "source": [
    "data.describe()"
   ],
   "metadata": {
    "collapsed": false,
    "pycharm": {
     "name": "#%%\n",
     "is_executing": true
    }
   }
  },
  {
   "cell_type": "code",
   "execution_count": null,
   "outputs": [],
   "source": [
    "print(data[\"M.8\"].max())  # arousal, both men and women\n",
    "print(data[\"M.8\"].min())\n",
    "print(data[\"M.6\"].max())  # valence\n",
    "print(data[\"M.6\"].min())"
   ],
   "metadata": {
    "collapsed": false,
    "pycharm": {
     "name": "#%%\n",
     "is_executing": true
    }
   }
  },
  {
   "cell_type": "code",
   "execution_count": 6,
   "outputs": [],
   "source": [
    "data[\"M.8\"] = data[\"M.8\"].map(lambda x: (x - 5) / 4)\n",
    "data[\"M.6\"] = data[\"M.6\"].map(lambda x: (x - 5) / 4)"
   ],
   "metadata": {
    "collapsed": false,
    "pycharm": {
     "name": "#%%\n"
    }
   }
  },
  {
   "cell_type": "code",
   "execution_count": null,
   "outputs": [],
   "source": [
    "print(data[\"M.8\"].max())  # arousal, both men and women\n",
    "print(data[\"M.8\"].min())\n",
    "print(data[\"M.6\"].max())  # valence\n",
    "print(data[\"M.6\"].min())"
   ],
   "metadata": {
    "collapsed": false,
    "pycharm": {
     "name": "#%%\n",
     "is_executing": true
    }
   }
  },
  {
   "cell_type": "code",
   "execution_count": null,
   "outputs": [],
   "source": [
    "fig = plt.figure(figsize=(12, 12))\n",
    "fig.tight_layout(pad=20)\n",
    "ax = fig.add_subplot()\n",
    "\n",
    "for index, row in data.iterrows():\n",
    "    ax.scatter(row[\"M.6\"], row[\"M.8\"], marker='o')\n",
    "\n",
    "font = {'family': 'serif',\n",
    "        'color': 'black',\n",
    "        'weight': 'normal',\n",
    "        'size': 16,\n",
    "        }\n",
    "\n",
    "ax.set_xlabel('Valence', fontdict=font)\n",
    "ax.set_ylabel('Arousal', fontdict=font)\n",
    "\n",
    "ax.set_xlim(-1.05, 1.05)\n",
    "ax.set_ylim(-1.05, 1.05)\n",
    "\n",
    "plt.grid()\n",
    "plt.title(\"NAPS Valence-Arousal space graph\", fontdict=font)\n",
    "\n",
    "plt.savefig(\"plots/naps_valence_arousal\")\n",
    "plt.show()"
   ],
   "metadata": {
    "collapsed": false,
    "pycharm": {
     "name": "#%%\n",
     "is_executing": true
    }
   }
  },
  {
   "cell_type": "code",
   "execution_count": 59,
   "outputs": [],
   "source": [
    "data_result = []\n",
    "for index, row in data.iterrows():\n",
    "    data_result.append(\n",
    "        {\"dataset\": \"NAPS\", \"id\": f\"{row.ID}.jpg\", \"valence\": row[\"M.6\"], \"arousal\": row[\"M.8\"]})"
   ],
   "metadata": {
    "collapsed": false,
    "pycharm": {
     "name": "#%%\n"
    }
   }
  },
  {
   "cell_type": "code",
   "execution_count": null,
   "outputs": [],
   "source": [
    "result = pd.DataFrame(data_result)\n",
    "result.head()"
   ],
   "metadata": {
    "collapsed": false,
    "pycharm": {
     "name": "#%%\n",
     "is_executing": true
    }
   }
  },
  {
   "cell_type": "code",
   "execution_count": null,
   "outputs": [],
   "source": [],
   "metadata": {
    "collapsed": false,
    "pycharm": {
     "name": "#%%\n"
    }
   }
  }
 ],
 "metadata": {
  "kernelspec": {
   "display_name": "Python 3",
   "language": "python",
   "name": "python3"
  },
  "language_info": {
   "codemirror_mode": {
    "name": "ipython",
    "version": 2
   },
   "file_extension": ".py",
   "mimetype": "text/x-python",
   "name": "python",
   "nbconvert_exporter": "python",
   "pygments_lexer": "ipython2",
   "version": "2.7.6"
  }
 },
 "nbformat": 4,
 "nbformat_minor": 0
}