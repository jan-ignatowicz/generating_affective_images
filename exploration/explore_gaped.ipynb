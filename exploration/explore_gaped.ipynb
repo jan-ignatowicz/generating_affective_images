{
 "cells": [
  {
   "cell_type": "code",
   "execution_count": 1,
   "metadata": {
    "collapsed": true,
    "pycharm": {
     "name": "#%%\n"
    }
   },
   "outputs": [],
   "source": [
    "import matplotlib.pyplot as plt\n",
    "import pandas as pd"
   ]
  },
  {
   "cell_type": "code",
   "execution_count": null,
   "outputs": [],
   "source": [
    "data = pd.read_csv('../preprocess/csv_files/GAPED.csv')\n",
    "data.head()"
   ],
   "metadata": {
    "collapsed": false,
    "pycharm": {
     "name": "#%%\n",
     "is_executing": true
    }
   }
  },
  {
   "cell_type": "code",
   "execution_count": null,
   "outputs": [],
   "source": [
    "data.columns"
   ],
   "metadata": {
    "collapsed": false,
    "pycharm": {
     "name": "#%%\n",
     "is_executing": true
    }
   }
  },
  {
   "cell_type": "code",
   "execution_count": null,
   "outputs": [],
   "source": [
    "data.describe()"
   ],
   "metadata": {
    "collapsed": false,
    "pycharm": {
     "name": "#%%\n",
     "is_executing": true
    }
   }
  },
  {
   "cell_type": "code",
   "execution_count": null,
   "outputs": [],
   "source": [
    "print(data[\"arousal\"].max())  # arousal, control group\n",
    "print(data[\"arousal\"].min())\n",
    "print(data[\"valence\"].max())  # valence\n",
    "print(data[\"valence\"].min())"
   ],
   "metadata": {
    "collapsed": false,
    "pycharm": {
     "name": "#%%\n",
     "is_executing": true
    }
   }
  },
  {
   "cell_type": "code",
   "execution_count": 27,
   "outputs": [],
   "source": [
    "data[\"arousal\"] = data[\"arousal\"].map(lambda x: x / 50 - 1)\n",
    "data[\"valence\"] = data[\"valence\"].map(lambda x: x / 50 - 1)"
   ],
   "metadata": {
    "collapsed": false,
    "pycharm": {
     "name": "#%%\n"
    }
   }
  },
  {
   "cell_type": "code",
   "execution_count": null,
   "outputs": [],
   "source": [
    "print(data[\"arousal\"].max())  # arousal, control group\n",
    "print(data[\"arousal\"].min())\n",
    "print(data[\"valence\"].max())  # valence\n",
    "print(data[\"valence\"].min())"
   ],
   "metadata": {
    "collapsed": false,
    "pycharm": {
     "name": "#%%\n",
     "is_executing": true
    }
   }
  },
  {
   "cell_type": "code",
   "execution_count": null,
   "outputs": [],
   "source": [
    "fig = plt.figure(figsize=(12, 12))\n",
    "fig.tight_layout(pad=20)\n",
    "ax = fig.add_subplot()\n",
    "\n",
    "for index, row in data.iterrows():\n",
    "    ax.scatter(row[\"valence\"], row[\"arousal\"], marker='o')\n",
    "\n",
    "font = {'family': 'serif',\n",
    "        'color': 'black',\n",
    "        'weight': 'normal',\n",
    "        'size': 16,\n",
    "        }\n",
    "\n",
    "ax.set_xlabel('Valence', fontdict=font)\n",
    "ax.set_ylabel('Arousal', fontdict=font)\n",
    "\n",
    "ax.set_xlim(-1.05, 1.05)\n",
    "ax.set_ylim(-1.05, 1.05)\n",
    "\n",
    "plt.grid()\n",
    "plt.title(\"GAPED Valence-Arousal space graph\", fontdict=font)\n",
    "\n",
    "plt.savefig(\"plots/gaped_valence_arousal\")\n",
    "plt.show()"
   ],
   "metadata": {
    "collapsed": false,
    "pycharm": {
     "name": "#%%\n",
     "is_executing": true
    }
   }
  },
  {
   "cell_type": "code",
   "execution_count": null,
   "outputs": [],
   "source": [],
   "metadata": {
    "collapsed": false,
    "pycharm": {
     "name": "#%%\n"
    }
   }
  }
 ],
 "metadata": {
  "kernelspec": {
   "display_name": "Python 3",
   "language": "python",
   "name": "python3"
  },
  "language_info": {
   "codemirror_mode": {
    "name": "ipython",
    "version": 2
   },
   "file_extension": ".py",
   "mimetype": "text/x-python",
   "name": "python",
   "nbconvert_exporter": "python",
   "pygments_lexer": "ipython2",
   "version": "2.7.6"
  }
 },
 "nbformat": 4,
 "nbformat_minor": 0
}