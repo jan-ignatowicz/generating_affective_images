{
 "cells": [
  {
   "cell_type": "code",
   "execution_count": null,
   "metadata": {
    "collapsed": true,
    "pycharm": {
     "name": "#%%\n"
    }
   },
   "outputs": [],
   "source": [
    "classifiers_base_train_acc = {\n",
    "    \"resnet18\": 0.9069,\n",
    "    \"resnet152\": 0.9143,\n",
    "    \"efficientnet_b7\": 0.9007,\n",
    "    \"vgg19\": 0.8525\n",
    "}\n",
    "\n",
    "classifiers_base_val_acc = {\n",
    "    \"resnet18\": 0.202899,\n",
    "    \"resnet152\": 0.208014,\n",
    "    \"efficientnet_b7\": 0.213981,\n",
    "    \"vgg19\": 0.232737\n",
    "}\n",
    "\n",
    "classifiers_augmented_train_acc = {\n",
    "    \"resnet18\": 0.8925,\n",
    "    \"resnet152\": 0.8933,\n",
    "    \"efficientnet_b7\": 0.8945,\n",
    "    \"vgg19\": 0.8898\n",
    "}\n",
    "\n",
    "classifiers_augmented_val_acc = {\n",
    "    \"resnet18\": 0.1892,\n",
    "    \"resnet152\": 0.2095,\n",
    "    \"efficientnet_b7\": 0.1950,\n",
    "    \"vgg19\": 0.2086\n",
    "}\n",
    "\n",
    "\n",
    "\"\"\"\n",
    "dataset, mode, ResNet18, ResnNet152, EfficientNet_b7, VGG19\n",
    "AFFECTIVE, train, 0.9069, 0.9143, 0.9007, 0.8525\n",
    ", validate, 0.2029, 0.2080, 0.2140, 0.2327\n",
    "A. AFFECTIVE, train, 0.8925, 0.8933, 0.8945, 0.8898\n",
    ", validate, 0.1892, 0.2095, 0.1950, 0.2086\n",
    "\"\"\""
   ]
  }
 ],
 "metadata": {
  "kernelspec": {
   "display_name": "Python 3",
   "language": "python",
   "name": "python3"
  },
  "language_info": {
   "codemirror_mode": {
    "name": "ipython",
    "version": 2
   },
   "file_extension": ".py",
   "mimetype": "text/x-python",
   "name": "python",
   "nbconvert_exporter": "python",
   "pygments_lexer": "ipython2",
   "version": "2.7.6"
  }
 },
 "nbformat": 4,
 "nbformat_minor": 0
}