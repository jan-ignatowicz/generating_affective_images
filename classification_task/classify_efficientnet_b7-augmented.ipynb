{
 "cells": [
  {
   "cell_type": "code",
   "execution_count": 1,
   "metadata": {
    "collapsed": false,
    "execution": {
     "iopub.execute_input": "2022-06-07T19:20:09.638812Z",
     "iopub.status.busy": "2022-06-07T19:20:09.638502Z",
     "iopub.status.idle": "2022-06-07T19:20:11.466752Z",
     "shell.execute_reply": "2022-06-07T19:20:11.465972Z",
     "shell.execute_reply.started": "2022-06-07T19:20:09.638735Z"
    },
    "jupyter": {
     "outputs_hidden": false
    },
    "pycharm": {
     "name": "#%%\n"
    }
   },
   "outputs": [],
   "source": [
    "from __future__ import print_function, division\n",
    "\n",
    "import copy\n",
    "import time\n",
    "\n",
    "import torch\n",
    "import torch.backends.cudnn as cudnn\n",
    "import torch.nn as nn\n",
    "import torch.optim as optim\n",
    "import torchvision.transforms as transforms\n",
    "from torch.optim import lr_scheduler\n",
    "from torch.utils.data import DataLoader\n",
    "from torchvision import models\n",
    "\n",
    "import settings as opt\n",
    "import utils\n",
    "from preprocess.dataset import ValenceArousalWithClassesDataset"
   ]
  },
  {
   "cell_type": "code",
   "execution_count": null,
   "metadata": {
    "collapsed": false,
    "execution": {
     "iopub.execute_input": "2022-06-07T19:20:12.270565Z",
     "iopub.status.busy": "2022-06-07T19:20:12.269678Z",
     "iopub.status.idle": "2022-06-07T19:20:12.282461Z",
     "shell.execute_reply": "2022-06-07T19:20:12.281699Z",
     "shell.execute_reply.started": "2022-06-07T19:20:12.270522Z"
    },
    "jupyter": {
     "outputs_hidden": false
    },
    "pycharm": {
     "name": "#%%\n",
     "is_executing": true
    }
   },
   "outputs": [],
   "source": [
    "cudnn.benchmark = True\n",
    "\n",
    "device = torch.device(\"cuda:0\" if (torch.cuda.is_available()) else \"cpu\")\n",
    "\n",
    "print(device)"
   ]
  },
  {
   "cell_type": "code",
   "execution_count": null,
   "metadata": {
    "collapsed": false,
    "execution": {
     "iopub.execute_input": "2022-06-07T19:20:13.441116Z",
     "iopub.status.busy": "2022-06-07T19:20:13.440858Z",
     "iopub.status.idle": "2022-06-07T19:20:18.993634Z",
     "shell.execute_reply": "2022-06-07T19:20:18.992913Z",
     "shell.execute_reply.started": "2022-06-07T19:20:13.441091Z"
    },
    "jupyter": {
     "outputs_hidden": false
    },
    "pycharm": {
     "name": "#%%\n",
     "is_executing": true
    }
   },
   "outputs": [],
   "source": [
    "# Image preprocessing\n",
    "\n",
    "pre_process = transforms.Compose([\n",
    "    transforms.Resize(opt.image_size),\n",
    "    transforms.CenterCrop(opt.image_size),\n",
    "    transforms.ToTensor(),\n",
    "    transforms.Normalize((0.5, 0.5, 0.5), (0.5, 0.5, 0.5)),\n",
    "])\n",
    "\n",
    "train_annonations_file = f\"{opt.ROOT_DIR}/datasets/TrainAugmentedData.csv\"\n",
    "train_all_images_path = f\"{opt.ROOT_DIR}/datasets/all_data_affective/augmented_train/\"\n",
    "\n",
    "val_annonations_file = f\"{opt.ROOT_DIR}/datasets/ValidationAugmentedData.csv\"\n",
    "val_all_images_path = f\"{opt.ROOT_DIR}/datasets/all_data_affective/augmented_val/\"\n",
    "\n",
    "train_set = ValenceArousalWithClassesDataset(csv_file=train_annonations_file,\n",
    "                                             root_dir=train_all_images_path,\n",
    "                                             transform=pre_process)\n",
    "\n",
    "val_set = ValenceArousalWithClassesDataset(csv_file=val_annonations_file,\n",
    "                                           root_dir=val_all_images_path,\n",
    "                                           transform=pre_process)\n",
    "\n",
    "train_set_size = len(train_set)\n",
    "val_set_size = len(val_set)\n",
    "n_classes = opt.n_classes\n",
    "class_names = list(opt.labels_map.values())\n",
    "\n",
    "batch_size = 128\n",
    "\n",
    "# Create the dataloader\n",
    "train_dataloader = DataLoader(train_set, batch_size=batch_size, shuffle=True)\n",
    "val_dataloader = DataLoader(val_set, batch_size=batch_size, shuffle=True)\n",
    "\n",
    "# Plot some training images\n",
    "real_images, real_labels = next(iter(val_dataloader))\n",
    "real_labels = real_labels.numpy().flatten()\n",
    "real_labels = [opt.labels_map[label_class] for label_class in real_labels]\n",
    "utils.plot_images_with_labels(real_images, real_labels, predicted_labels=False, device=device)"
   ]
  },
  {
   "cell_type": "code",
   "execution_count": 4,
   "metadata": {
    "collapsed": false,
    "execution": {
     "iopub.execute_input": "2022-06-07T19:20:18.995340Z",
     "iopub.status.busy": "2022-06-07T19:20:18.994849Z",
     "iopub.status.idle": "2022-06-07T19:20:19.003900Z",
     "shell.execute_reply": "2022-06-07T19:20:19.003384Z",
     "shell.execute_reply.started": "2022-06-07T19:20:18.995312Z"
    },
    "jupyter": {
     "outputs_hidden": false
    },
    "pycharm": {
     "name": "#%%\n"
    }
   },
   "outputs": [],
   "source": [
    "def train_model(model, criterion, optimizer, scheduler, num_epochs=25):\n",
    "    since = time.time()\n",
    "\n",
    "    best_model_wts = copy.deepcopy(model.state_dict())\n",
    "    best_acc = 0.0\n",
    "\n",
    "    for epoch in range(num_epochs):\n",
    "        print(f'Epoch {epoch}/{num_epochs - 1}')\n",
    "        print('-' * 10)\n",
    "\n",
    "        # Each epoch has a training and validation phase\n",
    "        for phase in ['train', 'val']:\n",
    "            if phase == 'train':\n",
    "                model.train()  # Set model to training mode\n",
    "                dataloader = train_dataloader\n",
    "            else:\n",
    "                model.eval()  # Set model to evaluate mode\n",
    "                dataloader = val_dataloader\n",
    "\n",
    "            running_loss = 0.0\n",
    "            running_corrects = 0\n",
    "\n",
    "            # Iterate over data.\n",
    "            for inputs, labels in dataloader:\n",
    "                inputs = inputs.to(device)\n",
    "                labels = labels.to(device).view(-1)\n",
    "\n",
    "                # zero the parameter gradients\n",
    "                optimizer.zero_grad()\n",
    "\n",
    "                # forward\n",
    "                # track history if only in train\n",
    "                with torch.set_grad_enabled(phase == 'train'):\n",
    "                    outputs = model(inputs)\n",
    "                    _, preds = torch.max(outputs, 1)\n",
    "                    loss = criterion(outputs, labels)\n",
    "\n",
    "                    # backward + optimize only if in training phase\n",
    "                    if phase == 'train':\n",
    "                        loss.backward()\n",
    "                        optimizer.step()\n",
    "\n",
    "                # statistics\n",
    "                running_loss += loss.item() * inputs.size(0)\n",
    "                running_corrects += torch.sum(preds == labels.data)\n",
    "\n",
    "            if phase == 'train':\n",
    "                scheduler.step()\n",
    "                epoch_loss = running_loss / train_set_size\n",
    "                epoch_acc = running_corrects.double() / train_set_size\n",
    "            else:\n",
    "                epoch_loss = running_loss / val_set_size\n",
    "                epoch_acc = running_corrects.double() / val_set_size\n",
    "\n",
    "            print(f'{phase} Loss: {epoch_loss:.4f} Acc: {epoch_acc:.4f}')\n",
    "\n",
    "            # deep copy the model\n",
    "            if phase == 'val' and epoch_acc > best_acc:\n",
    "                best_acc = epoch_acc\n",
    "                best_model_wts = copy.deepcopy(model.state_dict())\n",
    "\n",
    "        print()\n",
    "\n",
    "    time_elapsed = time.time() - since\n",
    "    print(f'Training complete in {time_elapsed // 60:.0f}m {time_elapsed % 60:.0f}s')\n",
    "    print(f'Best val Acc: {best_acc:4f}')\n",
    "\n",
    "    # load best model weights\n",
    "    model.load_state_dict(best_model_wts)\n",
    "    return model"
   ]
  },
  {
   "cell_type": "code",
   "execution_count": null,
   "metadata": {
    "collapsed": false,
    "execution": {
     "iopub.execute_input": "2022-06-07T19:20:19.005226Z",
     "iopub.status.busy": "2022-06-07T19:20:19.004696Z",
     "iopub.status.idle": "2022-06-07T19:20:32.806609Z",
     "shell.execute_reply": "2022-06-07T19:20:32.805654Z",
     "shell.execute_reply.started": "2022-06-07T19:20:19.005203Z"
    },
    "jupyter": {
     "outputs_hidden": false
    },
    "pycharm": {
     "name": "#%%\n",
     "is_executing": true
    }
   },
   "outputs": [],
   "source": [
    "model_ft = models.efficientnet_b7(pretrained=True)\n",
    "num_ftrs = model_ft.classifier[1].in_features\n",
    "model_ft.classifier[1] = nn.Linear(num_ftrs, 13)\n",
    "\n",
    "model_ft = model_ft.to(device)\n",
    "\n",
    "criterion = nn.CrossEntropyLoss()\n",
    "\n",
    "# Observe that all parameters are being optimized\n",
    "optimizer_ft = optim.Adam(model_ft.parameters(), lr=opt.lr_D, betas=(opt.beta1, opt.beta2))\n",
    "\n",
    "# Decay LR by a factor of 0.1 every 7 epochs\n",
    "exp_lr_scheduler = lr_scheduler.StepLR(optimizer_ft, step_size=7, gamma=0.1)"
   ]
  },
  {
   "cell_type": "code",
   "execution_count": null,
   "metadata": {
    "collapsed": false,
    "execution": {
     "iopub.execute_input": "2022-06-07T19:20:45.338906Z",
     "iopub.status.busy": "2022-06-07T19:20:45.338672Z",
     "iopub.status.idle": "2022-06-07T21:34:29.552789Z",
     "shell.execute_reply": "2022-06-07T21:34:29.551588Z",
     "shell.execute_reply.started": "2022-06-07T19:20:45.338882Z"
    },
    "jupyter": {
     "outputs_hidden": false
    },
    "pycharm": {
     "name": "#%%\n",
     "is_executing": true
    }
   },
   "outputs": [],
   "source": [
    "model_ft = train_model(model_ft, criterion, optimizer_ft, exp_lr_scheduler,\n",
    "                       num_epochs=25)"
   ]
  },
  {
   "cell_type": "code",
   "execution_count": null,
   "metadata": {
    "collapsed": false,
    "execution": {
     "iopub.execute_input": "2022-06-07T21:34:33.971376Z",
     "iopub.status.busy": "2022-06-07T21:34:33.970663Z",
     "iopub.status.idle": "2022-06-07T21:34:35.877086Z",
     "shell.execute_reply": "2022-06-07T21:34:35.876345Z",
     "shell.execute_reply.started": "2022-06-07T21:34:33.971347Z"
    },
    "jupyter": {
     "outputs_hidden": false
    },
    "pycharm": {
     "name": "#%%\n",
     "is_executing": true
    }
   },
   "outputs": [],
   "source": [
    "# Plot some training images\n",
    "real_images, real_labels = next(iter(val_dataloader))\n",
    "real_labels = real_labels.numpy().flatten()\n",
    "real_labels = [opt.labels_map[label_class] for label_class in real_labels]\n",
    "\n",
    "model_ft.eval()\n",
    "\n",
    "real_images = real_images.to(device)\n",
    "\n",
    "outputs = model_ft(real_images)\n",
    "_, preds = torch.max(outputs, 1)\n",
    "\n",
    "predicted_labels = preds.to('cpu').numpy().flatten()\n",
    "predicted_labels = [opt.labels_map[label_class] for label_class in predicted_labels]\n",
    "\n",
    "utils.plot_images_with_labels(real_images, real_labels, predicted_labels, device)"
   ]
  },
  {
   "cell_type": "code",
   "execution_count": null,
   "metadata": {
    "collapsed": false,
    "jupyter": {
     "outputs_hidden": false
    },
    "pycharm": {
     "name": "#%%\n"
    }
   },
   "outputs": [],
   "source": []
  }
 ],
 "metadata": {
  "kernelspec": {
   "display_name": "Python 3 (ipykernel)",
   "language": "python",
   "name": "python3"
  },
  "language_info": {
   "codemirror_mode": {
    "name": "ipython",
    "version": 3
   },
   "file_extension": ".py",
   "mimetype": "text/x-python",
   "name": "python",
   "nbconvert_exporter": "python",
   "pygments_lexer": "ipython3",
   "version": "3.8.12"
  }
 },
 "nbformat": 4,
 "nbformat_minor": 4
}