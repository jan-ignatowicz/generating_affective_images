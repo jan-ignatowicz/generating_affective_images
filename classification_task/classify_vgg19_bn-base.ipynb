{
 "cells": [
  {
   "cell_type": "code",
   "execution_count": 1,
   "metadata": {
    "collapsed": false,
    "execution": {
     "iopub.execute_input": "2022-06-07T09:35:53.255898Z",
     "iopub.status.busy": "2022-06-07T09:35:53.255307Z",
     "iopub.status.idle": "2022-06-07T09:35:54.977539Z",
     "shell.execute_reply": "2022-06-07T09:35:54.976517Z",
     "shell.execute_reply.started": "2022-06-07T09:35:53.255819Z"
    },
    "jupyter": {
     "outputs_hidden": false
    },
    "pycharm": {
     "name": "#%%\n"
    }
   },
   "outputs": [],
   "source": [
    "from __future__ import print_function, division\n",
    "\n",
    "import copy\n",
    "import time\n",
    "\n",
    "import torch\n",
    "import torch.backends.cudnn as cudnn\n",
    "import torch.nn as nn\n",
    "import torch.optim as optim\n",
    "import torchvision.transforms as transforms\n",
    "from torch.optim import lr_scheduler\n",
    "from torch.utils.data import DataLoader\n",
    "from torchvision import models\n",
    "\n",
    "import settings as opt\n",
    "import utils\n",
    "from preprocess.dataset import ValenceArousalWithClassesDataset"
   ]
  },
  {
   "cell_type": "code",
   "execution_count": null,
   "metadata": {
    "collapsed": false,
    "execution": {
     "iopub.execute_input": "2022-06-07T09:35:56.128165Z",
     "iopub.status.busy": "2022-06-07T09:35:56.127391Z",
     "iopub.status.idle": "2022-06-07T09:35:56.138635Z",
     "shell.execute_reply": "2022-06-07T09:35:56.137981Z",
     "shell.execute_reply.started": "2022-06-07T09:35:56.128134Z"
    },
    "jupyter": {
     "outputs_hidden": false
    },
    "pycharm": {
     "name": "#%%\n",
     "is_executing": true
    }
   },
   "outputs": [],
   "source": [
    "cudnn.benchmark = True\n",
    "\n",
    "device = torch.device(\"cuda:0\" if (torch.cuda.is_available()) else \"cpu\")\n",
    "\n",
    "print(device)"
   ]
  },
  {
   "cell_type": "code",
   "execution_count": null,
   "metadata": {
    "collapsed": false,
    "execution": {
     "iopub.execute_input": "2022-06-07T09:35:56.556337Z",
     "iopub.status.busy": "2022-06-07T09:35:56.555810Z",
     "iopub.status.idle": "2022-06-07T09:35:59.477648Z",
     "shell.execute_reply": "2022-06-07T09:35:59.476930Z",
     "shell.execute_reply.started": "2022-06-07T09:35:56.556311Z"
    },
    "jupyter": {
     "outputs_hidden": false
    },
    "pycharm": {
     "name": "#%%\n",
     "is_executing": true
    }
   },
   "outputs": [],
   "source": [
    "# Image preprocessing\n",
    "\n",
    "pre_process = transforms.Compose([\n",
    "    transforms.Resize(opt.image_size),\n",
    "    transforms.CenterCrop(opt.image_size),\n",
    "    transforms.ToTensor(),\n",
    "    transforms.Normalize((0.5, 0.5, 0.5), (0.5, 0.5, 0.5)),\n",
    "])\n",
    "\n",
    "dataset = ValenceArousalWithClassesDataset(csv_file=opt.annonations_file,\n",
    "                                           root_dir=opt.all_images_path,\n",
    "                                           transform=pre_process)\n",
    "\n",
    "train_set_size = int(0.8 * len(dataset))\n",
    "val_set_size = len(dataset) - train_set_size\n",
    "train_set, val_set = torch.utils.data.random_split(dataset, [train_set_size, val_set_size])\n",
    "\n",
    "n_classes = opt.n_classes\n",
    "class_names = list(opt.labels_map.values())\n",
    "\n",
    "batch_size = 128\n",
    "\n",
    "# Create the dataloader\n",
    "train_dataloader = DataLoader(train_set, batch_size=batch_size, shuffle=True)\n",
    "val_dataloader = DataLoader(val_set, batch_size=batch_size, shuffle=True)\n",
    "\n",
    "# Plot some training images\n",
    "real_images, real_labels = next(iter(val_dataloader))\n",
    "real_labels = real_labels.numpy().flatten()\n",
    "real_labels = [opt.labels_map[label_class] for label_class in real_labels]\n",
    "utils.plot_images_with_labels(real_images, real_labels, predicted_labels=False, device=device)"
   ]
  },
  {
   "cell_type": "code",
   "execution_count": 4,
   "metadata": {
    "collapsed": false,
    "execution": {
     "iopub.execute_input": "2022-06-07T09:35:59.479527Z",
     "iopub.status.busy": "2022-06-07T09:35:59.479003Z",
     "iopub.status.idle": "2022-06-07T09:35:59.488655Z",
     "shell.execute_reply": "2022-06-07T09:35:59.487981Z",
     "shell.execute_reply.started": "2022-06-07T09:35:59.479498Z"
    },
    "jupyter": {
     "outputs_hidden": false
    },
    "pycharm": {
     "name": "#%%\n"
    }
   },
   "outputs": [],
   "source": [
    "def train_model(model, criterion, optimizer, scheduler, num_epochs=25):\n",
    "    since = time.time()\n",
    "\n",
    "    best_model_wts = copy.deepcopy(model.state_dict())\n",
    "    best_acc = 0.0\n",
    "\n",
    "    for epoch in range(num_epochs):\n",
    "        print(f'Epoch {epoch}/{num_epochs - 1}')\n",
    "        print('-' * 10)\n",
    "\n",
    "        # Each epoch has a training and validation phase\n",
    "        for phase in ['train', 'val']:\n",
    "            if phase == 'train':\n",
    "                model.train()  # Set model to training mode\n",
    "                dataloader = train_dataloader\n",
    "            else:\n",
    "                model.eval()  # Set model to evaluate mode\n",
    "                dataloader = val_dataloader\n",
    "\n",
    "            running_loss = 0.0\n",
    "            running_corrects = 0\n",
    "\n",
    "            # Iterate over data.\n",
    "            for inputs, labels in dataloader:\n",
    "                inputs = inputs.to(device)\n",
    "                labels = labels.to(device).view(-1)\n",
    "\n",
    "                # zero the parameter gradients\n",
    "                optimizer.zero_grad()\n",
    "\n",
    "                # forward\n",
    "                # track history if only in train\n",
    "                with torch.set_grad_enabled(phase == 'train'):\n",
    "                    outputs = model(inputs)\n",
    "                    _, preds = torch.max(outputs, 1)\n",
    "                    loss = criterion(outputs, labels)\n",
    "\n",
    "                    # backward + optimize only if in training phase\n",
    "                    if phase == 'train':\n",
    "                        loss.backward()\n",
    "                        optimizer.step()\n",
    "\n",
    "                # statistics\n",
    "                running_loss += loss.item() * inputs.size(0)\n",
    "                running_corrects += torch.sum(preds == labels.data)\n",
    "\n",
    "            if phase == 'train':\n",
    "                scheduler.step()\n",
    "                epoch_loss = running_loss / train_set_size\n",
    "                epoch_acc = running_corrects.double() / train_set_size\n",
    "            else:\n",
    "                epoch_loss = running_loss / val_set_size\n",
    "                epoch_acc = running_corrects.double() / val_set_size\n",
    "\n",
    "            print(f'{phase} Loss: {epoch_loss:.4f} Acc: {epoch_acc:.4f}')\n",
    "\n",
    "            # deep copy the model\n",
    "            if phase == 'val' and epoch_acc > best_acc:\n",
    "                best_acc = epoch_acc\n",
    "                best_model_wts = copy.deepcopy(model.state_dict())\n",
    "\n",
    "        print()\n",
    "\n",
    "    time_elapsed = time.time() - since\n",
    "    print(f'Training complete in {time_elapsed // 60:.0f}m {time_elapsed % 60:.0f}s')\n",
    "    print(f'Best val Acc: {best_acc:4f}')\n",
    "\n",
    "    # load best model weights\n",
    "    model.load_state_dict(best_model_wts)\n",
    "    return model"
   ]
  },
  {
   "cell_type": "code",
   "execution_count": 5,
   "metadata": {
    "collapsed": false,
    "execution": {
     "iopub.execute_input": "2022-06-07T09:35:59.489931Z",
     "iopub.status.busy": "2022-06-07T09:35:59.489739Z",
     "iopub.status.idle": "2022-06-07T09:36:01.452731Z",
     "shell.execute_reply": "2022-06-07T09:36:01.452020Z",
     "shell.execute_reply.started": "2022-06-07T09:35:59.489910Z"
    },
    "jupyter": {
     "outputs_hidden": false
    },
    "pycharm": {
     "name": "#%%\n"
    }
   },
   "outputs": [],
   "source": [
    "model_ft = models.vgg19_bn(pretrained=True)\n",
    "num_ftrs = model_ft.classifier[6].in_features\n",
    "model_ft.classifier[6] = nn.Linear(num_ftrs, 13)\n",
    "\n",
    "model_ft = model_ft.to(device)\n",
    "\n",
    "criterion = nn.CrossEntropyLoss()\n",
    "\n",
    "# Observe that all parameters are being optimized\n",
    "optimizer_ft = optim.Adam(model_ft.parameters(), lr=opt.lr_D, betas=(opt.beta1, opt.beta2))\n",
    "\n",
    "# Decay LR by a factor of 0.1 every 7 epochs\n",
    "exp_lr_scheduler = lr_scheduler.StepLR(optimizer_ft, step_size=7, gamma=0.1)"
   ]
  },
  {
   "cell_type": "code",
   "execution_count": null,
   "metadata": {
    "collapsed": false,
    "execution": {
     "iopub.execute_input": "2022-06-07T09:36:01.454209Z",
     "iopub.status.busy": "2022-06-07T09:36:01.454042Z",
     "iopub.status.idle": "2022-06-07T10:14:37.320481Z",
     "shell.execute_reply": "2022-06-07T10:14:37.319768Z",
     "shell.execute_reply.started": "2022-06-07T09:36:01.454190Z"
    },
    "jupyter": {
     "outputs_hidden": false
    },
    "pycharm": {
     "name": "#%%\n",
     "is_executing": true
    }
   },
   "outputs": [],
   "source": [
    "model_ft = train_model(model_ft, criterion, optimizer_ft, exp_lr_scheduler,\n",
    "                       num_epochs=25)"
   ]
  },
  {
   "cell_type": "code",
   "execution_count": null,
   "metadata": {
    "collapsed": false,
    "execution": {
     "iopub.execute_input": "2022-06-07T10:24:45.390687Z",
     "iopub.status.busy": "2022-06-07T10:24:45.390449Z",
     "iopub.status.idle": "2022-06-07T10:24:46.033575Z",
     "shell.execute_reply": "2022-06-07T10:24:46.032847Z",
     "shell.execute_reply.started": "2022-06-07T10:24:45.390662Z"
    },
    "jupyter": {
     "outputs_hidden": false
    },
    "pycharm": {
     "name": "#%%\n",
     "is_executing": true
    }
   },
   "outputs": [],
   "source": [
    "# Plot some training images\n",
    "real_images, real_labels = next(iter(val_dataloader))\n",
    "real_labels = real_labels.numpy().flatten()\n",
    "real_labels = [opt.labels_map[label_class] for label_class in real_labels]\n",
    "\n",
    "model_ft.eval()\n",
    "\n",
    "real_images = real_images.to(device)\n",
    "\n",
    "outputs = model_ft(real_images)\n",
    "_, preds = torch.max(outputs, 1)\n",
    "\n",
    "predicted_labels = preds.to('cpu').numpy().flatten()\n",
    "predicted_labels = [opt.labels_map[label_class] for label_class in predicted_labels]\n",
    "\n",
    "utils.plot_images_with_labels(real_images, real_labels, predicted_labels, device)"
   ]
  },
  {
   "cell_type": "code",
   "execution_count": null,
   "metadata": {
    "collapsed": false,
    "jupyter": {
     "outputs_hidden": false
    },
    "pycharm": {
     "name": "#%%\n"
    }
   },
   "outputs": [],
   "source": []
  }
 ],
 "metadata": {
  "kernelspec": {
   "display_name": "Python 3 (ipykernel)",
   "language": "python",
   "name": "python3"
  },
  "language_info": {
   "codemirror_mode": {
    "name": "ipython",
    "version": 3
   },
   "file_extension": ".py",
   "mimetype": "text/x-python",
   "name": "python",
   "nbconvert_exporter": "python",
   "pygments_lexer": "ipython3",
   "version": "3.8.12"
  }
 },
 "nbformat": 4,
 "nbformat_minor": 4
}